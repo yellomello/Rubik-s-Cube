{
  "nbformat": 4,
  "nbformat_minor": 0,
  "metadata": {
    "colab": {
      "provenance": [],
      "collapsed_sections": [
        "ydg99E2zjaqs",
        "XM1LdU5Ljk9f",
        "c9jkW5Avvr9q",
        "dfZpPkiJ2qPd",
        "Jo2TLhgSv5nL",
        "RSApNDXVwBO2",
        "qfJ7RchewFza",
        "-2m3CVoowDVl",
        "UKHoqAW40M-y",
        "MFYZnmlH1fhx",
        "kY9etAad160k",
        "8O8hH6nu1-zD",
        "3jlq92ej2BjB",
        "5b5rBHe498Ei"
      ],
      "authorship_tag": "ABX9TyNm+ZC6Mxdi8onmfVW2u0/W",
      "include_colab_link": true
    },
    "kernelspec": {
      "name": "python3",
      "display_name": "Python 3"
    },
    "language_info": {
      "name": "python"
    }
  },
  "cells": [
    {
      "cell_type": "markdown",
      "metadata": {
        "id": "view-in-github",
        "colab_type": "text"
      },
      "source": [
        "<a href=\"https://colab.research.google.com/github/yellomello/Rubik-s-Cube/blob/main/Rubiks_Cube_Lab.ipynb\" target=\"_parent\"><img src=\"https://colab.research.google.com/assets/colab-badge.svg\" alt=\"Open In Colab\"/></a>"
      ]
    },
    {
      "cell_type": "markdown",
      "source": [
        "# Basic Matrices"
      ],
      "metadata": {
        "id": "ydg99E2zjaqs"
      }
    },
    {
      "cell_type": "code",
      "source": [
        "import copy"
      ],
      "metadata": {
        "id": "kI9WqgktfVoa"
      },
      "execution_count": null,
      "outputs": []
    },
    {
      "cell_type": "code",
      "source": [
        "main={\n",
        "    'White':   [[1,2,3], [4,5,6], [7,8,9]],\n",
        "    'Blue':    [[10,11,12], [13,14,15], [16,17,18]],\n",
        "    'Orange':  [[19,20,21], [22,23,24], [25,26,27]],\n",
        "    'Green':   [[28,29,30], [31,32,33], [34,35,36]],\n",
        "    'Red':     [[37,38,39], [40,41,42], [43,44,45]],\n",
        "    'Yellow':  [[46,47,48], [49,50,51], [52,53,54]],\n",
        "    }"
      ],
      "metadata": {
        "id": "ApxbtMo3KRMb"
      },
      "execution_count": null,
      "outputs": []
    },
    {
      "cell_type": "code",
      "source": [
        "#All the squares\n",
        "solution={\n",
        "    'White':   [[1,2,3], [4,5,6], [7,8,9]],\n",
        "    'Blue':    [[10,11,12], [13,14,15], [16,17,18]],\n",
        "    'Orange':  [[19,20,21], [22,23,24], [25,26,27]],\n",
        "    'Green':   [[28,29,30], [31,32,33], [34,35,36]],\n",
        "    'Red':     [[37,38,39], [40,41,42], [43,44,45]],\n",
        "    'Yellow':  [[46,47,48], [49,50,51], [52,53,54]],\n",
        "    }"
      ],
      "metadata": {
        "id": "vAqcG5_ZFpRz"
      },
      "execution_count": null,
      "outputs": []
    },
    {
      "cell_type": "code",
      "source": [
        "n = copy.deepcopy(solution)"
      ],
      "metadata": {
        "id": "aCLcIB_NfKHc"
      },
      "execution_count": null,
      "outputs": []
    },
    {
      "cell_type": "code",
      "source": [
        "# n['White'][1][1]=5"
      ],
      "metadata": {
        "id": "Ntq2_g7afQqk"
      },
      "execution_count": null,
      "outputs": []
    },
    {
      "cell_type": "code",
      "source": [
        "n"
      ],
      "metadata": {
        "colab": {
          "base_uri": "https://localhost:8080/"
        },
        "id": "QJduRLoTf0hl",
        "outputId": "fdff1dfd-c9fc-4d1f-eaf3-e4eb16147d25"
      },
      "execution_count": null,
      "outputs": [
        {
          "output_type": "execute_result",
          "data": {
            "text/plain": [
              "{'White': [[1, 2, 3], [4, 5, 6], [7, 8, 9]],\n",
              " 'Blue': [[10, 11, 12], [13, 14, 15], [16, 17, 18]],\n",
              " 'Orange': [[19, 20, 21], [22, 23, 24], [25, 26, 27]],\n",
              " 'Green': [[28, 29, 30], [31, 32, 33], [34, 35, 36]],\n",
              " 'Red': [[37, 38, 39], [40, 41, 42], [43, 44, 45]],\n",
              " 'Yellow': [[46, 47, 48], [49, 50, 51], [52, 53, 54]]}"
            ]
          },
          "metadata": {},
          "execution_count": 423
        }
      ]
    },
    {
      "cell_type": "code",
      "source": [
        "n"
      ],
      "metadata": {
        "id": "elVdkfL5jYN4",
        "colab": {
          "base_uri": "https://localhost:8080/"
        },
        "outputId": "4af80b21-4272-4597-99d2-8152bb455644"
      },
      "execution_count": null,
      "outputs": [
        {
          "output_type": "execute_result",
          "data": {
            "text/plain": [
              "{'White': [[1, 2, 3], [4, 5, 6], [7, 8, 9]],\n",
              " 'Blue': [[10, 11, 12], [13, 14, 15], [16, 17, 18]],\n",
              " 'Orange': [[19, 20, 21], [22, 23, 24], [25, 26, 27]],\n",
              " 'Green': [[28, 29, 30], [31, 32, 33], [34, 35, 36]],\n",
              " 'Red': [[37, 38, 39], [40, 41, 42], [43, 44, 45]],\n",
              " 'Yellow': [[46, 47, 48], [49, 50, 51], [52, 53, 54]]}"
            ]
          },
          "metadata": {},
          "execution_count": 424
        }
      ]
    },
    {
      "cell_type": "markdown",
      "source": [
        "# Moves"
      ],
      "metadata": {
        "id": "XM1LdU5Ljk9f"
      }
    },
    {
      "cell_type": "markdown",
      "source": [
        "## Right and Left"
      ],
      "metadata": {
        "id": "c9jkW5Avvr9q"
      }
    },
    {
      "cell_type": "markdown",
      "source": [
        "### Right_up"
      ],
      "metadata": {
        "id": "dfZpPkiJ2qPd"
      }
    },
    {
      "cell_type": "code",
      "source": [
        "def right_up():\n",
        "  global solution\n",
        "  global n\n",
        "  n['White'][0][2] = solution['Orange'][0][2]\n",
        "  n['White'][1][2] = solution['Orange'][1][2]\n",
        "  n['White'][2][2] = solution['Orange'][2][2]\n",
        "\n",
        "  n['Orange'][0][2] = solution['Yellow'][2][2]\n",
        "  n['Orange'][1][2] = solution['Yellow'][2][1]\n",
        "  n['Orange'][2][2] = solution['Yellow'][2][0]\n",
        "\n",
        "  n['Yellow'][2][0] = solution['Red'][0][0]\n",
        "  n['Yellow'][2][1] = solution['Red'][1][0]\n",
        "  n['Yellow'][2][2] = solution['Red'][2][0]\n",
        "\n",
        "  n['Red'][0][0] = solution['White'][2][2]\n",
        "  n['Red'][1][0] = solution['White'][1][2]\n",
        "  n['Red'][2][0] = solution['White'][0][2]\n",
        "\n",
        "  # n['Green'] = list(zip(*n['Green'][::-1]))\n",
        "  n['Green'] = [[i,j,k] for i,j,k in zip(*n['Green'][::-1])]\n",
        "\n",
        "  solution = copy.deepcopy(n)\n",
        "\n"
      ],
      "metadata": {
        "id": "1hvbS7vNjnKW"
      },
      "execution_count": null,
      "outputs": []
    },
    {
      "cell_type": "markdown",
      "source": [
        "### Right Down"
      ],
      "metadata": {
        "id": "lXAawnh82-dN"
      }
    },
    {
      "cell_type": "code",
      "source": [
        "def right_down():\n",
        "  global solution\n",
        "  global n\n",
        "  n['White'][0][2] = solution['Red'][2][0]\n",
        "  n['White'][1][2] = solution['Red'][1][0]\n",
        "  n['White'][2][2] = solution['Red'][0][0]\n",
        "\n",
        "  n['Orange'][0][2] = solution['White'][0][2]\n",
        "  n['Orange'][1][2] = solution['White'][1][2]\n",
        "  n['Orange'][2][2] = solution['White'][2][2]\n",
        "\n",
        "  n['Yellow'][2][0] = solution['Orange'][2][2]\n",
        "  n['Yellow'][2][1] = solution['Orange'][1][2]\n",
        "  n['Yellow'][2][2] = solution['Orange'][0][2]\n",
        "\n",
        "  n['Red'][0][0] = solution['Yellow'][2][0]\n",
        "  n['Red'][1][0] = solution['Yellow'][2][1]\n",
        "  n['Red'][2][0] = solution['Yellow'][2][2]\n",
        "\n",
        "  n['Green'] = [[i,j,k] for i,j,k in zip(*n['Green'][::-1])]\n",
        "  n['Green'] = [[i,j,k] for i,j,k in zip(*n['Green'][::-1])]\n",
        "  n['Green'] = [[i,j,k] for i,j,k in zip(*n['Green'][::-1])]\n",
        "\n",
        "  solution = copy.deepcopy(n)"
      ],
      "metadata": {
        "id": "ELKQHQ8N3Ams"
      },
      "execution_count": null,
      "outputs": []
    },
    {
      "cell_type": "markdown",
      "source": [
        "### Left Up"
      ],
      "metadata": {
        "id": "AjTrttjx_1AS"
      }
    },
    {
      "cell_type": "code",
      "source": [
        "def left_up():\n",
        "  global solution\n",
        "  global n\n",
        "  n['White'][0][0] = solution['Orange'][0][0]\n",
        "  n['White'][1][0] = solution['Orange'][1][0]\n",
        "  n['White'][2][0] = solution['Orange'][2][0]\n",
        "\n",
        "  n['Orange'][0][0] = solution['Yellow'][0][2]\n",
        "  n['Orange'][1][0] = solution['Yellow'][0][1]\n",
        "  n['Orange'][2][0] = solution['Yellow'][0][0]\n",
        "\n",
        "  n['Yellow'][0][2] = solution['Red'][2][2]\n",
        "  n['Yellow'][0][1] = solution['Red'][1][2]\n",
        "  n['Yellow'][0][0] = solution['Red'][0][2]\n",
        "\n",
        "  n['Red'][0][2] = solution['White'][2][0]\n",
        "  n['Red'][1][2] = solution['White'][1][0]\n",
        "  n['Red'][2][2] = solution['White'][0][0]\n",
        "\n",
        "  n['Blue'] = [[i,j,k] for i,j,k in zip(*n['Blue'][::-1])]\n",
        "  n['Blue'] = [[i,j,k] for i,j,k in zip(*n['Blue'][::-1])]\n",
        "  n['Blue'] = [[i,j,k] for i,j,k in zip(*n['Blue'][::-1])]\n",
        "\n",
        "  solution = copy.deepcopy(n)"
      ],
      "metadata": {
        "id": "8o802kAIAO9q"
      },
      "execution_count": null,
      "outputs": []
    },
    {
      "cell_type": "markdown",
      "source": [
        "### Left Down"
      ],
      "metadata": {
        "id": "2tLqstFGEYdb"
      }
    },
    {
      "cell_type": "code",
      "source": [
        "def left_down():\n",
        "  global solution\n",
        "  global n\n",
        "  n['White'][0][0] = solution['Red'][2][2]\n",
        "  n['White'][1][0] = solution['Red'][1][2]\n",
        "  n['White'][2][0] = solution['Red'][0][2]\n",
        "\n",
        "  n['Red'][0][2] = solution['Yellow'][0][0]\n",
        "  n['Red'][1][2] = solution['Yellow'][0][1]\n",
        "  n['Red'][2][2] = solution['Yellow'][0][2]\n",
        "\n",
        "  n['Yellow'][0][0] = solution['Orange'][2][0]\n",
        "  n['Yellow'][0][1] = solution['Orange'][1][0]\n",
        "  n['Yellow'][0][2] = solution['Orange'][0][0]\n",
        "\n",
        "  n['Orange'][0][0] = solution['White'][0][0]\n",
        "  n['Orange'][1][0] = solution['White'][1][0]\n",
        "  n['Orange'][2][0] = solution['White'][2][0]\n",
        "\n",
        "  n['Blue'] = [[i,j,k] for i,j,k in zip(*n['Blue'][::-1])]\n",
        "\n",
        "\n",
        "  solution = copy.deepcopy(n)"
      ],
      "metadata": {
        "id": "aui6cIWBFHBZ"
      },
      "execution_count": null,
      "outputs": []
    },
    {
      "cell_type": "markdown",
      "source": [
        "## Up and Down"
      ],
      "metadata": {
        "id": "qDmZqNT5v0cm"
      }
    },
    {
      "cell_type": "markdown",
      "source": [
        "### Up Right"
      ],
      "metadata": {
        "id": "Jo2TLhgSv5nL"
      }
    },
    {
      "cell_type": "code",
      "source": [
        "def up_right():\n",
        "  global solution\n",
        "  global n\n",
        "  n['White'][0][0] = solution['Blue'][0][0]\n",
        "  n['White'][0][1] = solution['Blue'][0][1]\n",
        "  n['White'][0][2] = solution['Blue'][0][2]\n",
        "\n",
        "  n['Blue'][0][0] = solution['Yellow'][2][0]\n",
        "  n['Blue'][0][1] = solution['Yellow'][1][0]\n",
        "  n['Blue'][0][2] = solution['Yellow'][0][0]\n",
        "\n",
        "  n['Yellow'][0][0] = solution['Green'][2][0]\n",
        "  n['Yellow'][1][0] = solution['Green'][2][1]\n",
        "  n['Yellow'][2][0] = solution['Green'][2][2]\n",
        "\n",
        "  n['Green'][2][0] = solution['White'][0][2]\n",
        "  n['Green'][2][1] = solution['White'][0][1]\n",
        "  n['Green'][2][2] = solution['White'][0][0]\n",
        "\n",
        "  n['Red'] = [[i,j,k] for i,j,k in zip(*n['Red'][::-1])]\n",
        "  n['Red'] = [[i,j,k] for i,j,k in zip(*n['Red'][::-1])]\n",
        "  n['Red'] = [[i,j,k] for i,j,k in zip(*n['Red'][::-1])]\n",
        "\n",
        "\n",
        "  solution = copy.deepcopy(n)"
      ],
      "metadata": {
        "id": "Df3S0xg1wKg8"
      },
      "execution_count": null,
      "outputs": []
    },
    {
      "cell_type": "markdown",
      "source": [
        "### Up Left"
      ],
      "metadata": {
        "id": "RSApNDXVwBO2"
      }
    },
    {
      "cell_type": "code",
      "source": [
        "def up_left():\n",
        "  global solution\n",
        "  global n\n",
        "  n['White'][0][0] = solution['Green'][2][2]\n",
        "  n['White'][0][1] = solution['Green'][2][1]\n",
        "  n['White'][0][2] = solution['Green'][2][0]\n",
        "\n",
        "  n['Green'][2][0] = solution['Yellow'][0][0]\n",
        "  n['Green'][2][1] = solution['Yellow'][1][0]\n",
        "  n['Green'][2][2] = solution['Yellow'][2][0]\n",
        "\n",
        "  n['Yellow'][0][0] = solution['Blue'][0][2]\n",
        "  n['Yellow'][1][0] = solution['Blue'][0][1]\n",
        "  n['Yellow'][2][0] = solution['Blue'][0][0]\n",
        "\n",
        "  n['Blue'][0][0] = solution['White'][0][0]\n",
        "  n['Blue'][0][1] = solution['White'][0][1]\n",
        "  n['Blue'][0][2] = solution['White'][0][2]\n",
        "\n",
        "  n['Red'] = [[i,j,k] for i,j,k in zip(*n['Red'][::-1])]\n",
        "\n",
        "\n",
        "  solution = copy.deepcopy(n)"
      ],
      "metadata": {
        "id": "RynZIB_9yDyq"
      },
      "execution_count": null,
      "outputs": []
    },
    {
      "cell_type": "markdown",
      "source": [
        "### Down Right"
      ],
      "metadata": {
        "id": "qfJ7RchewFza"
      }
    },
    {
      "cell_type": "code",
      "source": [
        "def down_right():\n",
        "  global solution\n",
        "  global n\n",
        "  n['White'][2][0] = solution['Blue'][2][0]\n",
        "  n['White'][2][1] = solution['Blue'][2][1]\n",
        "  n['White'][2][2] = solution['Blue'][2][2]\n",
        "\n",
        "  n['Blue'][2][0] = solution['Yellow'][2][2]\n",
        "  n['Blue'][2][1] = solution['Yellow'][1][2]\n",
        "  n['Blue'][2][2] = solution['Yellow'][0][2]\n",
        "\n",
        "  n['Yellow'][0][2] = solution['Green'][0][0]\n",
        "  n['Yellow'][1][2] = solution['Green'][0][1]\n",
        "  n['Yellow'][2][2] = solution['Green'][0][2]\n",
        "\n",
        "  n['Green'][0][0] = solution['White'][2][2]\n",
        "  n['Green'][0][1] = solution['White'][2][1]\n",
        "  n['Green'][0][2] = solution['White'][2][0]\n",
        "\n",
        "  n['Orange'] = [[i,j,k] for i,j,k in zip(*n['Orange'][::-1])]\n",
        "\n",
        "\n",
        "  solution = copy.deepcopy(n)"
      ],
      "metadata": {
        "id": "FKyFWlxfzXAl"
      },
      "execution_count": null,
      "outputs": []
    },
    {
      "cell_type": "markdown",
      "source": [
        "### Down Left"
      ],
      "metadata": {
        "id": "-2m3CVoowDVl"
      }
    },
    {
      "cell_type": "code",
      "source": [
        "def down_left():\n",
        "  global solution\n",
        "  global n\n",
        "  n['White'][2][0] = solution['Green'][0][2]\n",
        "  n['White'][2][1] = solution['Green'][0][1]\n",
        "  n['White'][2][2] = solution['Green'][0][0]\n",
        "\n",
        "  n['Green'][0][0] = solution['Yellow'][0][2]\n",
        "  n['Green'][0][1] = solution['Yellow'][1][2]\n",
        "  n['Green'][0][2] = solution['Yellow'][2][2]\n",
        "\n",
        "  n['Yellow'][0][2] = solution['Blue'][2][2]\n",
        "  n['Yellow'][1][2] = solution['Blue'][2][1]\n",
        "  n['Yellow'][2][2] = solution['Blue'][2][0]\n",
        "\n",
        "  n['Blue'][2][0] = solution['White'][2][0]\n",
        "  n['Blue'][2][1] = solution['White'][2][1]\n",
        "  n['Blue'][2][2] = solution['White'][2][2]\n",
        "\n",
        "  n['Orange'] = [[i,j,k] for i,j,k in zip(*n['Orange'][::-1])]\n",
        "  n['Orange'] = [[i,j,k] for i,j,k in zip(*n['Orange'][::-1])]\n",
        "  n['Orange'] = [[i,j,k] for i,j,k in zip(*n['Orange'][::-1])]\n",
        "\n",
        "\n",
        "  solution = copy.deepcopy(n)"
      ],
      "metadata": {
        "id": "P1dUg-HL05Ta"
      },
      "execution_count": null,
      "outputs": []
    },
    {
      "cell_type": "markdown",
      "source": [
        "## Front and Back"
      ],
      "metadata": {
        "id": "UKHoqAW40M-y"
      }
    },
    {
      "cell_type": "markdown",
      "source": [
        "### Front Right"
      ],
      "metadata": {
        "id": "MFYZnmlH1fhx"
      }
    },
    {
      "cell_type": "code",
      "source": [
        "def front_right():\n",
        "  global solution\n",
        "  global n\n",
        "  n['Blue'][0][2] = solution['Orange'][0][0]\n",
        "  n['Blue'][1][2] = solution['Orange'][0][1]\n",
        "  n['Blue'][2][2] = solution['Orange'][0][2]\n",
        "\n",
        "  n['Orange'][0][0] = solution['Green'][0][2]\n",
        "  n['Orange'][0][1] = solution['Green'][1][2]\n",
        "  n['Orange'][0][2] = solution['Green'][2][2]\n",
        "\n",
        "  n['Green'][0][2] = solution['Red'][0][0]\n",
        "  n['Green'][1][2] = solution['Red'][0][1]\n",
        "  n['Green'][2][2] = solution['Red'][0][2]\n",
        "\n",
        "  n['Red'][0][0] = solution['Blue'][0][2]\n",
        "  n['Red'][0][1] = solution['Blue'][1][2]\n",
        "  n['Red'][0][2] = solution['Blue'][2][2]\n",
        "\n",
        "  n['White'] = [[i,j,k] for i,j,k in zip(*n['White'][::-1])]\n",
        "\n",
        "\n",
        "  solution = copy.deepcopy(n)"
      ],
      "metadata": {
        "id": "5gcuRpG92bpS"
      },
      "execution_count": null,
      "outputs": []
    },
    {
      "cell_type": "markdown",
      "source": [
        "### Front Left"
      ],
      "metadata": {
        "id": "kY9etAad160k"
      }
    },
    {
      "cell_type": "code",
      "source": [
        "def front_left():\n",
        "  global solution\n",
        "  global n\n",
        "  n['Blue'][0][2] = solution['Red'][0][0]\n",
        "  n['Blue'][1][2] = solution['Red'][0][1]\n",
        "  n['Blue'][2][2] = solution['Red'][0][2]\n",
        "\n",
        "  n['Orange'][0][0] = solution['Blue'][0][2]\n",
        "  n['Orange'][0][1] = solution['Blue'][1][2]\n",
        "  n['Orange'][0][2] = solution['Blue'][2][2]\n",
        "\n",
        "  n['Green'][0][2] = solution['Orange'][0][0]\n",
        "  n['Green'][1][2] = solution['Orange'][0][1]\n",
        "  n['Green'][2][2] = solution['Orange'][0][2]\n",
        "\n",
        "  n['Red'][0][0] = solution['Green'][0][2]\n",
        "  n['Red'][0][1] = solution['Green'][1][2]\n",
        "  n['Red'][0][2] = solution['Green'][2][2]\n",
        "\n",
        "  n['White'] = [[i,j,k] for i,j,k in zip(*n['White'][::-1])]\n",
        "  n['White'] = [[i,j,k] for i,j,k in zip(*n['White'][::-1])]\n",
        "  n['White'] = [[i,j,k] for i,j,k in zip(*n['White'][::-1])]\n",
        "\n",
        "\n",
        "  solution = copy.deepcopy(n)"
      ],
      "metadata": {
        "id": "6N2rwu534C1d"
      },
      "execution_count": null,
      "outputs": []
    },
    {
      "cell_type": "markdown",
      "source": [
        "### Back Right"
      ],
      "metadata": {
        "id": "8O8hH6nu1-zD"
      }
    },
    {
      "cell_type": "code",
      "source": [
        "def back_right():\n",
        "  global solution\n",
        "  global n\n",
        "  n['Blue'][0][0] = solution['Orange'][2][0]\n",
        "  n['Blue'][1][0] = solution['Orange'][2][1]\n",
        "  n['Blue'][2][0] = solution['Orange'][2][2]\n",
        "\n",
        "  n['Orange'][2][0] = solution['Green'][0][0]\n",
        "  n['Orange'][2][1] = solution['Green'][1][0]\n",
        "  n['Orange'][2][2] = solution['Green'][2][0]\n",
        "\n",
        "  n['Green'][0][0] = solution['Red'][2][0]\n",
        "  n['Green'][1][0] = solution['Red'][2][1]\n",
        "  n['Green'][2][0] = solution['Red'][2][2]\n",
        "\n",
        "  n['Red'][2][0] = solution['Blue'][0][0]\n",
        "  n['Red'][2][1] = solution['Blue'][1][0]\n",
        "  n['Red'][2][2] = solution['Blue'][2][0]\n",
        "\n",
        "  n['Yellow'] = [[i,j,k] for i,j,k in zip(*n['Yellow'][::-1])]\n",
        "  n['Yellow'] = [[i,j,k] for i,j,k in zip(*n['Yellow'][::-1])]\n",
        "  n['Yellow'] = [[i,j,k] for i,j,k in zip(*n['Yellow'][::-1])]\n",
        "\n",
        "\n",
        "  solution = copy.deepcopy(n)"
      ],
      "metadata": {
        "id": "S1pWIFaS45cC"
      },
      "execution_count": null,
      "outputs": []
    },
    {
      "cell_type": "markdown",
      "source": [
        "### Back Left"
      ],
      "metadata": {
        "id": "3jlq92ej2BjB"
      }
    },
    {
      "cell_type": "code",
      "source": [
        "def back_left():\n",
        "  global solution\n",
        "  global n\n",
        "  n['Blue'][0][0] = solution['Red'][2][0]\n",
        "  n['Blue'][1][0] = solution['Red'][2][1]\n",
        "  n['Blue'][2][0] = solution['Red'][2][2]\n",
        "\n",
        "  n['Red'][2][0] = solution['Green'][0][0]\n",
        "  n['Red'][2][1] = solution['Green'][1][0]\n",
        "  n['Red'][2][2] = solution['Green'][2][0]\n",
        "\n",
        "  n['Green'][0][0] = solution['Orange'][2][0]\n",
        "  n['Green'][1][0] = solution['Orange'][2][1]\n",
        "  n['Green'][2][0] = solution['Orange'][2][2]\n",
        "\n",
        "  n['Orange'][2][0] = solution['Blue'][0][0]\n",
        "  n['Orange'][2][1] = solution['Blue'][1][0]\n",
        "  n['Orange'][2][2] = solution['Blue'][2][0]\n",
        "\n",
        "  n['Yellow'] = [[i,j,k] for i,j,k in zip(*n['Yellow'][::-1])]\n",
        "\n",
        "\n",
        "\n",
        "  solution = copy.deepcopy(n)"
      ],
      "metadata": {
        "id": "Bnw1pCTo6nMj"
      },
      "execution_count": null,
      "outputs": []
    },
    {
      "cell_type": "markdown",
      "source": [
        "# Test"
      ],
      "metadata": {
        "id": "5b5rBHe498Ei"
      }
    },
    {
      "cell_type": "code",
      "source": [
        "if n==main:\n",
        "  print(\"Yes\")"
      ],
      "metadata": {
        "colab": {
          "base_uri": "https://localhost:8080/"
        },
        "id": "t2iVdr8mLX0e",
        "outputId": "36c6739a-9dbe-48f0-d83a-023223def1c3"
      },
      "execution_count": null,
      "outputs": [
        {
          "output_type": "stream",
          "name": "stdout",
          "text": [
            "Yes\n"
          ]
        }
      ]
    },
    {
      "cell_type": "code",
      "source": [
        "counter=0\n",
        "while(True):\n",
        "  right_up()\n",
        "  right_up()\n",
        "  down_left()\n",
        "  left_up()\n",
        "  front_left()\n",
        "  counter+=1\n",
        "  if n==main:\n",
        "    break\n",
        "print(counter)"
      ],
      "metadata": {
        "id": "WJSnef_s9_Sl",
        "colab": {
          "base_uri": "https://localhost:8080/"
        },
        "outputId": "2bb0f488-217f-4e92-9347-16ec4e476e7d"
      },
      "execution_count": null,
      "outputs": [
        {
          "output_type": "stream",
          "name": "stdout",
          "text": [
            "60\n"
          ]
        }
      ]
    },
    {
      "cell_type": "code",
      "source": [
        "n"
      ],
      "metadata": {
        "colab": {
          "base_uri": "https://localhost:8080/"
        },
        "id": "o8V-voDb-Dnw",
        "outputId": "98ca4fb5-c62f-46f3-fc00-5a28335923aa"
      },
      "execution_count": null,
      "outputs": [
        {
          "output_type": "execute_result",
          "data": {
            "text/plain": [
              "{'White': [[1, 2, 3], [4, 5, 6], [7, 8, 9]],\n",
              " 'Blue': [[10, 11, 12], [13, 14, 15], [16, 17, 18]],\n",
              " 'Orange': [[19, 20, 21], [22, 23, 24], [25, 26, 27]],\n",
              " 'Green': [[28, 29, 30], [31, 32, 33], [34, 35, 36]],\n",
              " 'Red': [[37, 38, 39], [40, 41, 42], [43, 44, 45]],\n",
              " 'Yellow': [[46, 47, 48], [49, 50, 51], [52, 53, 54]]}"
            ]
          },
          "metadata": {},
          "execution_count": 439
        }
      ]
    },
    {
      "cell_type": "code",
      "source": [
        "solution"
      ],
      "metadata": {
        "id": "qP4mQ9Ia-EEe",
        "colab": {
          "base_uri": "https://localhost:8080/"
        },
        "outputId": "fac45f12-f130-4243-d20b-adff2cac8767"
      },
      "execution_count": null,
      "outputs": [
        {
          "output_type": "execute_result",
          "data": {
            "text/plain": [
              "{'White': [[1, 2, 3], [4, 5, 6], [7, 8, 9]],\n",
              " 'Blue': [[10, 11, 12], [13, 14, 15], [16, 17, 18]],\n",
              " 'Orange': [[19, 20, 21], [22, 23, 24], [25, 26, 27]],\n",
              " 'Green': [[28, 29, 30], [31, 32, 33], [34, 35, 36]],\n",
              " 'Red': [[37, 38, 39], [40, 41, 42], [43, 44, 45]],\n",
              " 'Yellow': [[46, 47, 48], [49, 50, 51], [52, 53, 54]]}"
            ]
          },
          "metadata": {},
          "execution_count": 440
        }
      ]
    },
    {
      "cell_type": "code",
      "source": [
        "main"
      ],
      "metadata": {
        "colab": {
          "base_uri": "https://localhost:8080/"
        },
        "id": "-zvsFuP-K63r",
        "outputId": "205ac6c1-3890-4c83-f13a-361cfaad0e16"
      },
      "execution_count": null,
      "outputs": [
        {
          "output_type": "execute_result",
          "data": {
            "text/plain": [
              "{'White': [[1, 2, 3], [4, 5, 6], [7, 8, 9]],\n",
              " 'Blue': [[10, 11, 12], [13, 14, 15], [16, 17, 18]],\n",
              " 'Orange': [[19, 20, 21], [22, 23, 24], [25, 26, 27]],\n",
              " 'Green': [[28, 29, 30], [31, 32, 33], [34, 35, 36]],\n",
              " 'Red': [[37, 38, 39], [40, 41, 42], [43, 44, 45]],\n",
              " 'Yellow': [[46, 47, 48], [49, 50, 51], [52, 53, 54]]}"
            ]
          },
          "metadata": {},
          "execution_count": 441
        }
      ]
    },
    {
      "cell_type": "code",
      "source": [
        "if n==main:\n",
        "  print(\"Yes\")"
      ],
      "metadata": {
        "colab": {
          "base_uri": "https://localhost:8080/"
        },
        "id": "_uRfxvVTK8Jb",
        "outputId": "6900a7b1-484c-432d-9817-d019ee2e7444"
      },
      "execution_count": null,
      "outputs": [
        {
          "output_type": "stream",
          "name": "stdout",
          "text": [
            "Yes\n"
          ]
        }
      ]
    },
    {
      "cell_type": "code",
      "source": [],
      "metadata": {
        "id": "oUhhAoG-LDWh"
      },
      "execution_count": null,
      "outputs": []
    },
    {
      "cell_type": "code",
      "source": [],
      "metadata": {
        "id": "FExHgliQoR0O"
      },
      "execution_count": null,
      "outputs": []
    }
  ]
}