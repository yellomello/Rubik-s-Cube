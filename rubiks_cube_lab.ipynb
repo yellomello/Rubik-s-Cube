{
  "nbformat": 4,
  "nbformat_minor": 0,
  "metadata": {
    "colab": {
      "provenance": [],
      "authorship_tag": "ABX9TyOMNTf6kP5CecLCkSkEouDa",
      "include_colab_link": true
    },
    "kernelspec": {
      "name": "python3",
      "display_name": "Python 3"
    },
    "language_info": {
      "name": "python"
    }
  },
  "cells": [
    {
      "cell_type": "markdown",
      "metadata": {
        "id": "view-in-github",
        "colab_type": "text"
      },
      "source": [
        "<a href=\"https://colab.research.google.com/github/yellomello/Rubik-s-Cube/blob/main/rubiks_cube_lab.ipynb\" target=\"_parent\"><img src=\"https://colab.research.google.com/assets/colab-badge.svg\" alt=\"Open In Colab\"/></a>"
      ]
    },
    {
      "cell_type": "markdown",
      "source": [
        "# Basic Matrices"
      ],
      "metadata": {
        "id": "ydg99E2zjaqs"
      }
    },
    {
      "cell_type": "code",
      "source": [
        "import copy"
      ],
      "metadata": {
        "id": "kI9WqgktfVoa"
      },
      "execution_count": null,
      "outputs": []
    },
    {
      "cell_type": "code",
      "source": [
        "#All the squares\n",
        "solution={\n",
        "    'White':   [[1,2,3], [4,5,6], [7,8,9]],\n",
        "    'Blue':    [[10,11,12], [13,14,15], [16,17,18]],\n",
        "    'Orange':  [[19,20,21], [22,23,24], [25,26,27]],\n",
        "    'Green':   [[28,29,30], [31,32,33], [34,35,36]],\n",
        "    'Red':     [[37,38,39], [40,41,42], [43,44,45]],\n",
        "    'Yellow':  [[46,47,48], [49,50,51], [52,53,54]],\n",
        "    }"
      ],
      "metadata": {
        "id": "vAqcG5_ZFpRz"
      },
      "execution_count": null,
      "outputs": []
    },
    {
      "cell_type": "code",
      "source": [
        "n = copy.deepcopy(solution)"
      ],
      "metadata": {
        "id": "aCLcIB_NfKHc"
      },
      "execution_count": null,
      "outputs": []
    },
    {
      "cell_type": "code",
      "source": [
        "n['White'][1][1]=5"
      ],
      "metadata": {
        "id": "Ntq2_g7afQqk"
      },
      "execution_count": null,
      "outputs": []
    },
    {
      "cell_type": "code",
      "source": [
        "n"
      ],
      "metadata": {
        "colab": {
          "base_uri": "https://localhost:8080/"
        },
        "id": "QJduRLoTf0hl",
        "outputId": "7121d900-446c-4064-9311-eb5cf6babddb"
      },
      "execution_count": null,
      "outputs": [
        {
          "output_type": "execute_result",
          "data": {
            "text/plain": [
              "{'White': [[1, 2, 3], [4, 5, 6], [7, 8, 9]],\n",
              " 'Blue': [[10, 11, 12], [13, 14, 15], [16, 17, 18]],\n",
              " 'Orange': [[19, 20, 21], [22, 23, 24], [25, 26, 27]],\n",
              " 'Green': [[28, 29, 30], [31, 32, 33], [34, 35, 36]],\n",
              " 'Red': [[37, 38, 39], [40, 41, 42], [43, 44, 45]],\n",
              " 'Yellow': [[46, 47, 48], [49, 50, 51], [52, 53, 54]]}"
            ]
          },
          "metadata": {},
          "execution_count": 208
        }
      ]
    },
    {
      "cell_type": "code",
      "source": [],
      "metadata": {
        "id": "elVdkfL5jYN4"
      },
      "execution_count": null,
      "outputs": []
    },
    {
      "cell_type": "markdown",
      "source": [
        "# Moves"
      ],
      "metadata": {
        "id": "XM1LdU5Ljk9f"
      }
    },
    {
      "cell_type": "markdown",
      "source": [
        "## Right_up"
      ],
      "metadata": {
        "id": "dfZpPkiJ2qPd"
      }
    },
    {
      "cell_type": "code",
      "source": [
        "def right_up():\n",
        "  global solution\n",
        "  global n\n",
        "  n['White'][0][2] = solution['Orange'][0][2]\n",
        "  n['White'][1][2] = solution['Orange'][1][2]\n",
        "  n['White'][2][2] = solution['Orange'][2][2]\n",
        "\n",
        "  n['Orange'][0][2] = solution['Yellow'][2][2]\n",
        "  n['Orange'][1][2] = solution['Yellow'][2][1]\n",
        "  n['Orange'][2][2] = solution['Yellow'][2][0]\n",
        "\n",
        "  n['Yellow'][2][0] = solution['Red'][0][0]\n",
        "  n['Yellow'][2][1] = solution['Red'][1][0]\n",
        "  n['Yellow'][2][2] = solution['Red'][2][0]\n",
        "\n",
        "  n['Red'][0][0] = solution['White'][2][2]\n",
        "  n['Red'][1][0] = solution['White'][1][2]\n",
        "  n['Red'][2][0] = solution['White'][0][2]\n",
        "\n",
        "  n['Green'] = list(zip(*n['Green'][::-1]))\n",
        "\n",
        "  solution = copy.deepcopy(n)\n",
        "\n"
      ],
      "metadata": {
        "id": "1hvbS7vNjnKW"
      },
      "execution_count": null,
      "outputs": []
    },
    {
      "cell_type": "markdown",
      "source": [
        "## Right Down"
      ],
      "metadata": {
        "id": "lXAawnh82-dN"
      }
    },
    {
      "cell_type": "code",
      "source": [
        "def right_down():\n",
        "  global solution\n",
        "  global n\n",
        "  n['White'][0][2] = solution['Red'][2][0]\n",
        "  n['White'][1][2] = solution['Red'][1][0]\n",
        "  n['White'][2][2] = solution['Red'][0][0]\n",
        "\n",
        "  n['Orange'][0][2] = solution['White'][0][2]\n",
        "  n['Orange'][1][2] = solution['White'][1][2]\n",
        "  n['Orange'][2][2] = solution['White'][2][2]\n",
        "\n",
        "  n['Yellow'][2][0] = solution['Orange'][2][2]\n",
        "  n['Yellow'][2][1] = solution['Orange'][1][2]\n",
        "  n['Yellow'][2][2] = solution['Orange'][0][2]\n",
        "\n",
        "  n['Red'][0][0] = solution['Yellow'][2][0]\n",
        "  n['Red'][1][0] = solution['Yellow'][2][1]\n",
        "  n['Red'][2][0] = solution['Yellow'][2][2]\n",
        "\n",
        "  n['Green'] = list(zip(*n['Green'][::-1]))\n",
        "  n['Green'] = list(zip(*n['Green'][::-1]))\n",
        "  n['Green'] = list(zip(*n['Green'][::-1]))\n",
        "\n",
        "  solution = copy.deepcopy(n)"
      ],
      "metadata": {
        "id": "ELKQHQ8N3Ams"
      },
      "execution_count": null,
      "outputs": []
    },
    {
      "cell_type": "markdown",
      "source": [
        "## Left Up"
      ],
      "metadata": {
        "id": "AjTrttjx_1AS"
      }
    },
    {
      "cell_type": "code",
      "source": [
        "def left_up():\n",
        "  global solution\n",
        "  global n\n",
        "  n['White'][0][0] = solution['Orange'][0][0]\n",
        "  n['White'][1][0] = solution['Orange'][1][0]\n",
        "  n['White'][2][0] = solution['Orange'][2][0]\n",
        "\n",
        "  n['Orange'][0][0] = solution['Yellow'][0][2]\n",
        "  n['Orange'][1][0] = solution['Yellow'][0][1]\n",
        "  n['Orange'][2][0] = solution['Yellow'][0][0]\n",
        "\n",
        "  n['Yellow'][0][2] = solution['Red'][2][2]\n",
        "  n['Yellow'][0][1] = solution['Red'][1][2]\n",
        "  n['Yellow'][0][0] = solution['Red'][0][2]\n",
        "\n",
        "  n['Red'][0][2] = solution['White'][2][0]\n",
        "  n['Red'][1][2] = solution['White'][1][0]\n",
        "  n['Red'][2][2] = solution['White'][0][0]\n",
        "\n",
        "  n['Blue'] = list(zip(*n['Blue'][::-1]))\n",
        "  n['Blue'] = list(zip(*n['Blue'][::-1]))\n",
        "  n['Blue'] = list(zip(*n['Blue'][::-1]))\n",
        "\n",
        "  solution = copy.deepcopy(n)"
      ],
      "metadata": {
        "id": "8o802kAIAO9q"
      },
      "execution_count": null,
      "outputs": []
    },
    {
      "cell_type": "markdown",
      "source": [
        "## Left Down"
      ],
      "metadata": {
        "id": "2tLqstFGEYdb"
      }
    },
    {
      "cell_type": "code",
      "source": [],
      "metadata": {
        "id": "aui6cIWBFHBZ"
      },
      "execution_count": null,
      "outputs": []
    },
    {
      "cell_type": "markdown",
      "source": [
        "# Test"
      ],
      "metadata": {
        "id": "5b5rBHe498Ei"
      }
    },
    {
      "cell_type": "code",
      "source": [
        "left_down()"
      ],
      "metadata": {
        "id": "WJSnef_s9_Sl"
      },
      "execution_count": null,
      "outputs": []
    },
    {
      "cell_type": "code",
      "source": [
        "n"
      ],
      "metadata": {
        "colab": {
          "base_uri": "https://localhost:8080/"
        },
        "id": "o8V-voDb-Dnw",
        "outputId": "0dc90625-79d6-44d4-ec53-de7fd0569096"
      },
      "execution_count": null,
      "outputs": [
        {
          "output_type": "execute_result",
          "data": {
            "text/plain": [
              "{'White': [[19, 2, 3], [22, 5, 6], [25, 8, 9]],\n",
              " 'Blue': [(16, 13, 10), (17, 14, 11), (18, 15, 12)],\n",
              " 'Orange': [[48, 20, 21], [47, 23, 24], [46, 26, 27]],\n",
              " 'Green': [[28, 29, 30], [31, 32, 33], [34, 35, 36]],\n",
              " 'Red': [[37, 38, 7], [40, 41, 4], [43, 44, 1]],\n",
              " 'Yellow': [[39, 42, 45], [49, 50, 51], [52, 53, 54]]}"
            ]
          },
          "metadata": {},
          "execution_count": 214
        }
      ]
    },
    {
      "cell_type": "code",
      "source": [],
      "metadata": {
        "id": "qP4mQ9Ia-EEe"
      },
      "execution_count": null,
      "outputs": []
    }
  ]
}